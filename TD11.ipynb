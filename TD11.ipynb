{
 "cells": [
  {
   "cell_type": "markdown",
   "metadata": {},
   "source": [
    "\n",
    "# MTH3302 : Méthodes probabilistes et statistiques pour l'I.A.\n",
    "\n",
    "Jonathan Jalbert<br/>\n",
    "Professeur agrégé au Département de mathématiques et de génie industriel<br/>\n",
    "Polytechnique Montréal<br/>\n",
    "\n",
    "\n",
    "# TD11 : Classification bayésienne naïve pour filtrer les spams\n",
    "\n",
    "### Description\n",
    "\n",
    "Dans ce TD, nous construirons un filtre anti-spam pour un autre employé de la compagnie Enron. On utilisera autant de mot que nécessaire pour obtenir un classement satisfaisant.\n",
    "\n",
    "### Données\n",
    "\n",
    "Dans ce TD, nous utiliserons les messages électroniques d'un autre employé de la compagnie Enron. Veuillez récupérer l'archive *Enron2.zip* sur Moodle et la décompresser dans le répertoire courant du calepin. "
   ]
  },
  {
   "cell_type": "markdown",
   "metadata": {},
   "source": [
    "# Chargement des librairies"
   ]
  },
  {
   "cell_type": "code",
   "execution_count": 1,
   "metadata": {},
   "outputs": [],
   "source": [
    "using MLBase"
   ]
  },
  {
   "cell_type": "markdown",
   "metadata": {},
   "source": [
    "# Chargement des données\n",
    "\n",
    "Le code de cette section permet de traiter les fichiers textes correspondant à tous les messages électroniques de l'utilisateurs. Les messages électroniques se trouvent dans les dossier *ham/* et *spam/* de l'utilisateur *Enron2*."
   ]
  },
  {
   "cell_type": "code",
   "execution_count": 2,
   "metadata": {},
   "outputs": [],
   "source": [
    "# Récupération des noms de fichier de tous les hams\n",
    "filesdir = \"enron2/ham/\"\n",
    "filename_ham = filesdir.*readdir(filesdir);"
   ]
  },
  {
   "cell_type": "code",
   "execution_count": 3,
   "metadata": {},
   "outputs": [],
   "source": [
    "# Récupération des noms de fichier de tous les spams\n",
    "filesdir = \"enron2/spam/\"\n",
    "filename_spam = filesdir.*readdir(filesdir);"
   ]
  },
  {
   "cell_type": "markdown",
   "metadata": {},
   "source": [
    "### Partitionnement des données en ensemble d'entraînement et de validation\n",
    "\n",
    "Le 2/3 des données constituent l'ensemble d'entraînement et le 1/3 restant l'ensemble de validation."
   ]
  },
  {
   "cell_type": "code",
   "execution_count": 4,
   "metadata": {},
   "outputs": [],
   "source": [
    "# Partitionnement des courriels\n",
    "ham_train = sample(filename_ham, round(Int, 2/3*length(filename_ham)), replace=false, ordered=true)\n",
    "ham_valid = setdiff(filename_ham, ham_train);"
   ]
  },
  {
   "cell_type": "code",
   "execution_count": 5,
   "metadata": {},
   "outputs": [],
   "source": [
    "# Partitionnement des pourriels\n",
    "spam_train = sample(filename_spam, round(Int, 2/3*length(filename_spam)), replace=false, ordered=true)\n",
    "spam_valid = setdiff(filename_spam, spam_train);"
   ]
  },
  {
   "cell_type": "code",
   "execution_count": 72,
   "metadata": {},
   "outputs": [],
   "source": [
    "# Vecteur des solutions de l'ensemble de validation (0 = pourriel, 1 = courriel)\n",
    "Z = vcat(ones(Int64, length(ham_valid)), zeros(Int64, length(spam_valid)));"
   ]
  },
  {
   "cell_type": "code",
   "execution_count": 7,
   "metadata": {},
   "outputs": [
    {
     "name": "stdout",
     "output_type": "stream",
     "text": [
      "L'échantillon d'entraînement est composé de 2907 courriels et 997 pourriels.\n",
      "L'échantillon de validation est composé de 1454 courriels et 499 pourriels.\n"
     ]
    }
   ],
   "source": [
    "println(\"L'échantillon d'entraînement est composé de $(length(ham_train)) courriels et $(length(spam_train)) pourriels.\")\n",
    "println(\"L'échantillon de validation est composé de $(length(ham_valid)) courriels et $(length(spam_valid)) pourriels.\")"
   ]
  },
  {
   "cell_type": "markdown",
   "metadata": {},
   "source": [
    "# Extraction des occurrences des mots\n",
    "\n",
    "### Fonctions permettants le traitement des fichiers textes pour la classifications bayésienne naïve."
   ]
  },
  {
   "cell_type": "code",
   "execution_count": 8,
   "metadata": {},
   "outputs": [
    {
     "data": {
      "text/plain": [
       "wordcounting"
      ]
     },
     "execution_count": 8,
     "metadata": {},
     "output_type": "execute_result"
    }
   ],
   "source": [
    "\"\"\"\n",
    "    wordlisting(filename::String)\n",
    "\n",
    "Extrait la liste des mots contenus dans le fichier texte `filename`.\n",
    "\n",
    "### Détails\n",
    "Ne dénombre pas le nombre d'occurrence des mots dans un fichier. N'est pas sensible aux majuscules ni aux minuscules.\n",
    "\"\"\"\n",
    "function wordlisting(filename::String)\n",
    "    \n",
    "    f = read(filename, String)\n",
    "    text = replace(f, r\"[0123456789]\" => \"\")\n",
    "    words = split(text, r\"\\W+\")\n",
    "    filter!(x -> length(x) > 1, words)\n",
    "    wordlist = unique(words)\n",
    "    \n",
    "end\n",
    "\n",
    "\"\"\"\n",
    "    wordcounting(wordlist::Vector{<:AbstractString})\n",
    "\n",
    "Dénombre les occurrences des mots dans la liste `wordlist`. \n",
    "\n",
    "### Détails\n",
    "Retourne un dictionnaire ayant comme clé le mot, et la valeur l'occurrence du mot.\n",
    "\"\"\"\n",
    "function wordcounting(wordlist::Vector{<:AbstractString})\n",
    "\n",
    "    wordcounts = Dict{String,Int64}()\n",
    "\n",
    "    for word in wordlist\n",
    "        wordcounts[word]=get(wordcounts, word, 0) + 1\n",
    "    end\n",
    "    \n",
    "    return wordcounts\n",
    "    \n",
    "end"
   ]
  },
  {
   "cell_type": "markdown",
   "metadata": {},
   "source": [
    "### Extraction de l'occurrence des mots des courriels"
   ]
  },
  {
   "cell_type": "code",
   "execution_count": 9,
   "metadata": {},
   "outputs": [
    {
     "data": {
      "text/plain": [
       "Dict{String, Int64} with 20734 entries:\n",
       "  \"chem\"          => 1\n",
       "  \"piecemeal\"     => 1\n",
       "  \"mh\"            => 2\n",
       "  \"basisnw\"       => 2\n",
       "  \"meyn\"          => 2\n",
       "  \"henry\"         => 13\n",
       "  \"panellist\"     => 1\n",
       "  \"bidder\"        => 5\n",
       "  \"hampshire\"     => 1\n",
       "  \"connell\"       => 5\n",
       "  \"rhonda\"        => 1\n",
       "  \"il\"            => 14\n",
       "  \"bottomfeeding\" => 1\n",
       "  \"gathered\"      => 4\n",
       "  \"okazji\"        => 2\n",
       "  \"cosimo\"        => 2\n",
       "  \"rainstorms\"    => 1\n",
       "  \"underground\"   => 2\n",
       "  \"backdrop\"      => 4\n",
       "  \"angelova\"      => 4\n",
       "  \"budgeted\"      => 6\n",
       "  \"november\"      => 111\n",
       "  \"estabilish\"    => 1\n",
       "  \"stress\"        => 16\n",
       "  \"backup\"        => 4\n",
       "  ⋮               => ⋮"
      ]
     },
     "execution_count": 9,
     "metadata": {},
     "output_type": "execute_result"
    }
   ],
   "source": [
    "ham_wordlist = wordlisting.(ham_train)\n",
    "ham_wordcounts = wordcounting(vcat(ham_wordlist...))"
   ]
  },
  {
   "cell_type": "markdown",
   "metadata": {},
   "source": [
    "### Extraction de l'occurrence des mots des pourriels"
   ]
  },
  {
   "cell_type": "code",
   "execution_count": 10,
   "metadata": {},
   "outputs": [
    {
     "data": {
      "text/plain": [
       "Dict{String, Int64} with 16872 entries:\n",
       "  \"irreplaceable\"   => 1\n",
       "  \"alternativetry\"  => 1\n",
       "  \"mh\"              => 1\n",
       "  \"attache\"         => 1\n",
       "  \"henry\"           => 1\n",
       "  \"sakarsucks\"      => 1\n",
       "  \"polyimide\"       => 1\n",
       "  \"vincentsamoasan\" => 1\n",
       "  \"bidder\"          => 1\n",
       "  \"hampshire\"       => 3\n",
       "  \"graand\"          => 3\n",
       "  \"il\"              => 11\n",
       "  \"msnbc\"           => 5\n",
       "  \"archiv\"          => 1\n",
       "  \"gathered\"        => 12\n",
       "  \"ochoa\"           => 1\n",
       "  \"lovers\"          => 2\n",
       "  \"realrhapsody\"    => 1\n",
       "  \"sobre\"           => 3\n",
       "  \"canal\"           => 2\n",
       "  \"backup\"          => 5\n",
       "  \"caught\"          => 3\n",
       "  \"stress\"          => 6\n",
       "  \"november\"        => 6\n",
       "  \"craftsmanship\"   => 1\n",
       "  ⋮                 => ⋮"
      ]
     },
     "execution_count": 10,
     "metadata": {},
     "output_type": "execute_result"
    }
   ],
   "source": [
    "spam_wordlist = wordlisting.(spam_train)\n",
    "spam_wordcounts = wordcounting(vcat(spam_wordlist...))"
   ]
  },
  {
   "cell_type": "markdown",
   "metadata": {},
   "source": [
    "# Exercice 1\n",
    "\n",
    "Considérez le premier mot discriminant comme variable explicative pour classer les messages électroniques en courriels et pourriels :\n",
    "\n",
    "$$ X_1 = \\begin{cases}\n",
    "0 & \\mbox{ si le mot est absent du message ;}\\\\\n",
    "1 & \\mbox{ si le mot est présent dans le message.}\n",
    "\\end{cases}$$\n",
    "\n",
    "Utilisez les lois a priori vagues."
   ]
  },
  {
   "cell_type": "markdown",
   "metadata": {},
   "source": [
    "### (a) Calculez la probabilité marginale qu'un nouveau message soit un courriel\n",
    "\n",
    "Autrement dit, calculez la probabilité suivante\n",
    "\n",
    "$$p_1 = \\mathbb{P}(\\tilde{Y}=1).$$"
   ]
  },
  {
   "cell_type": "code",
   "execution_count": 12,
   "metadata": {},
   "outputs": [
    {
     "data": {
      "text/plain": [
       "0.7446209016393442"
      ]
     },
     "execution_count": 12,
     "metadata": {},
     "output_type": "execute_result"
    }
   ],
   "source": [
    "n₁ = length(ham_train)\n",
    "n₀ = length(spam_train)\n",
    "n = n₁ + n₀\n",
    "\n",
    "p₁ = n₁ / n"
   ]
  },
  {
   "cell_type": "markdown",
   "metadata": {},
   "source": [
    "### (b) Calculez la probabilité marginale qu'un nouveau message soit un pourriel\n",
    "\n",
    "Autrement dit, calculez la probabilité suivante\n",
    "\n",
    "$$p_0 = \\mathbb{P}(\\tilde{Y}=0).$$"
   ]
  },
  {
   "cell_type": "code",
   "execution_count": 26,
   "metadata": {},
   "outputs": [
    {
     "data": {
      "text/plain": [
       "0.25537909836065575"
      ]
     },
     "execution_count": 26,
     "metadata": {},
     "output_type": "execute_result"
    }
   ],
   "source": [
    "p₀ = n₀ / n"
   ]
  },
  {
   "cell_type": "markdown",
   "metadata": {},
   "source": [
    "### (c) Calculez la probabilité prédictive que le mot *click* soit présent dans un pourriel.\n",
    "\n",
    "Autrement dit, calculez la quantité suivante :\n",
    "\n",
    "$$p_{01} = \\mathbb{P}(\\tilde{X}_1=1|\\tilde{Y}=0).$$"
   ]
  },
  {
   "cell_type": "code",
   "execution_count": 19,
   "metadata": {},
   "outputs": [],
   "source": [
    "α₀₁ = 1\n",
    "β₀₁ = 1\n",
    "n₀₁ = spam_wordcounts[\"click\"];"
   ]
  },
  {
   "cell_type": "code",
   "execution_count": 20,
   "metadata": {},
   "outputs": [
    {
     "data": {
      "text/plain": [
       "0.2182182182182182"
      ]
     },
     "execution_count": 20,
     "metadata": {},
     "output_type": "execute_result"
    }
   ],
   "source": [
    "p₀₁ = (α₀₁ + n₀₁) / (α₀₁ + β₀₁ + n₀)"
   ]
  },
  {
   "cell_type": "markdown",
   "metadata": {},
   "source": [
    "### (d) Calculez la probabilité prédictive que le mot *click* soit présent dans un courriel.\n",
    "\n",
    "Autrement dit, calculez la quantité suivante :\n",
    "\n",
    "$$p_{11} = \\mathbb{P}(\\tilde{X}_1=1|\\tilde{Y}=1).$$"
   ]
  },
  {
   "cell_type": "code",
   "execution_count": 23,
   "metadata": {},
   "outputs": [],
   "source": [
    "α₁₁ = 1\n",
    "β₁₁ = 1\n",
    "n₁₁ = ham_wordcounts[\"click\"];"
   ]
  },
  {
   "cell_type": "code",
   "execution_count": 24,
   "metadata": {},
   "outputs": [
    {
     "data": {
      "text/plain": [
       "0.03196974905465796"
      ]
     },
     "execution_count": 24,
     "metadata": {},
     "output_type": "execute_result"
    }
   ],
   "source": [
    "p₁₁ = (α₁₁ + n₁₁) / (α₁₁ + β₁₁ + n₁)"
   ]
  },
  {
   "cell_type": "markdown",
   "metadata": {},
   "source": [
    "### (e) Calculez la probabilité que le message soit un courriel si le mot *click* est présent.\n",
    "\n",
    "Autrement dit, calculez la probabilité suivante :\n",
    "\n",
    "$$\\mathbb{P}(\\tilde{Y}=1|\\tilde{X}_1=1) = \\frac{\\mathbb{P}(\\tilde{X}_1=1|\\tilde{Y}=1) \\times \\mathbb{P}(\\tilde{Y}=1)}{ \\mathbb{P}(\\tilde{X}_1=1|\\tilde{Y}=0) \\times \\mathbb{P}(\\tilde{Y}=0) + \\mathbb{P}(\\tilde{X}_1=1|\\tilde{Y}=1) \\times \\mathbb{P}(\\tilde{Y}=1)}$$\n",
    "\n",
    "Avec la notation introduite précédemment, on a que\n",
    "\n",
    "$$\\mathbb{P}(\\tilde{Y}=1|\\tilde{X}_1=1) = \\frac{p_{11} \\times p_1}{ p_{01} \\times p_0 + p_{11} \\times p_1}.$$"
   ]
  },
  {
   "cell_type": "code",
   "execution_count": 27,
   "metadata": {},
   "outputs": [
    {
     "data": {
      "text/plain": [
       "0.2993113462910328"
      ]
     },
     "execution_count": 27,
     "metadata": {},
     "output_type": "execute_result"
    }
   ],
   "source": [
    "p₁₁ * p₁ / (p₀₁ * p₀ + p₁₁ * p₁)"
   ]
  },
  {
   "cell_type": "markdown",
   "metadata": {},
   "source": [
    "### (f) Calculez la probabilité que le message soit un courriel si le mot *click* est absent.\n",
    "\n",
    "Autrement dit, calculez la probabilité suivante :\n",
    "\n",
    "$$\\mathbb{P}(\\tilde{Y}=1|\\tilde{X}_1=0) = \\frac{\\mathbb{P}(\\tilde{X}_1=0|\\tilde{Y}=1) \\times \\mathbb{P}(\\tilde{Y}=1)}{ \\mathbb{P}(\\tilde{X}_1=0|\\tilde{Y}=0) \\times \\mathbb{P}(\\tilde{Y}=0) + \\mathbb{P}(\\tilde{X}_1=0|\\tilde{Y}=1) \\times \\mathbb{P}(\\tilde{Y}=1)}$$\n",
    "\n",
    "Avec la notation introduite précédemment, on a que\n",
    "\n",
    "$$\\mathbb{P}(\\tilde{Y}=1|\\tilde{X}_1=0) = \\frac{(1-p_{11}) \\times p_1}{ (1-p_{01}) \\times p_0 + (1-p_{11}) \\times p_1}.$$"
   ]
  },
  {
   "cell_type": "code",
   "execution_count": 28,
   "metadata": {},
   "outputs": [
    {
     "data": {
      "text/plain": [
       "0.7830982733002408"
      ]
     },
     "execution_count": 28,
     "metadata": {},
     "output_type": "execute_result"
    }
   ],
   "source": [
    "(1 - p₁₁) * p₁ / ((1 - p₀₁) * p₀ + (1 - p₁₁) * p₁)"
   ]
  },
  {
   "cell_type": "markdown",
   "metadata": {},
   "source": [
    "### (g) Filtrez les messages de l'ensemble de validation"
   ]
  },
  {
   "cell_type": "code",
   "execution_count": 75,
   "metadata": {},
   "outputs": [
    {
     "data": {
      "text/plain": [
       "ROCNums{Int64}\n",
       "  p = 1454\n",
       "  n = 499\n",
       "  tp = 1400\n",
       "  tn = 141\n",
       "  fp = 358\n",
       "  fn = 54\n"
      ]
     },
     "execution_count": 75,
     "metadata": {},
     "output_type": "execute_result"
    }
   ],
   "source": [
    "word1 = \"click\"\n",
    "Ẑ = Int64[]\n",
    "\n",
    "for filename in ham_valid\n",
    "      \n",
    "    wordlist = wordlisting(filename)\n",
    "    x̃ = any(wordlist .== word1)\n",
    "    \n",
    "    if x̃\n",
    "        push!(Ẑ, 0)\n",
    "    else\n",
    "        push!(Ẑ, 1)\n",
    "    end\n",
    " \n",
    "end\n",
    "\n",
    "for filename in spam_valid\n",
    "      \n",
    "    wordlist = wordlisting(filename)\n",
    "    x̃ = any(wordlist .== word1)\n",
    "    \n",
    "    if x̃\n",
    "        push!(Ẑ, 0)\n",
    "    else\n",
    "        push!(Ẑ, 1)\n",
    "    end\n",
    " \n",
    "end\n",
    "\n",
    "r = roc(Z, Ẑ)"
   ]
  },
  {
   "cell_type": "markdown",
   "metadata": {},
   "source": [
    "# Exercice 2\n",
    "\n",
    "Voici deux fonctions permettant de calculer les facteurs devant les probabilités marginales pour inclure l'effet de la variable explicative. On va reprendre l'Exercice 1 en utilisant ces fonctions. On pourra par la suite facilement généraliser à plusieurs variables explicatives."
   ]
  },
  {
   "cell_type": "code",
   "execution_count": 33,
   "metadata": {},
   "outputs": [
    {
     "data": {
      "text/plain": [
       "wordhamliness"
      ]
     },
     "execution_count": 33,
     "metadata": {},
     "output_type": "execute_result"
    }
   ],
   "source": [
    "\"\"\"\n",
    "    wordspamliness(word::AbstractString)\n",
    "\n",
    "Calcul la probabilite que `word` soit présent dans les spams (p₀₁).\n",
    "\n",
    "### Détails\n",
    "Le nombre de spams `n₀` et le dénombrement de l'occurrence des mots dans les spams `spam_wordcounts` doivent\n",
    "être dans le global scope.\n",
    "\"\"\"\n",
    "function wordspamliness(word::AbstractString)\n",
    "    \n",
    "    if haskey(spam_wordcounts, word)\n",
    "        n₀₁ = spam_wordcounts[word]\n",
    "    else\n",
    "        n₀₁ = 0\n",
    "    end\n",
    "\n",
    "    p₀₁ = (1 + n₀₁)/(2 + n₀)\n",
    "    \n",
    "end\n",
    "\n",
    "\"\"\"\n",
    "    wordhamliness(word::AbstractString)\n",
    "\n",
    "Calcul la probabilite que `word` soit présent dans les hams (p₁₁).\n",
    "\n",
    "### Détails\n",
    "Le nombre de hams `n₁` et le dénombrement de l'occurrence des mots dans les hams `ham_wordcounts` doivent\n",
    "être dans le global scope.\n",
    "\"\"\"\n",
    "function wordhamliness(word::AbstractString)\n",
    "    \n",
    "    if haskey(ham_wordcounts, word)\n",
    "        n₁₁ = ham_wordcounts[word]\n",
    "    else\n",
    "        n₁₁ = 0\n",
    "    end\n",
    "\n",
    "    p₁₁ = (1 + n₁₁)/(2 + n₁)\n",
    "    \n",
    "end"
   ]
  },
  {
   "cell_type": "markdown",
   "metadata": {},
   "source": [
    "### (a) Calculez p₀₁ et p₁₁ avec les fonctions données dans la cellules précédentes pour le mot *click*."
   ]
  },
  {
   "cell_type": "code",
   "execution_count": 34,
   "metadata": {},
   "outputs": [
    {
     "data": {
      "text/plain": [
       "0.2182182182182182"
      ]
     },
     "execution_count": 34,
     "metadata": {},
     "output_type": "execute_result"
    }
   ],
   "source": [
    "p₀₁ = wordspamliness(\"click\")"
   ]
  },
  {
   "cell_type": "code",
   "execution_count": 35,
   "metadata": {},
   "outputs": [
    {
     "data": {
      "text/plain": [
       "0.03196974905465796"
      ]
     },
     "execution_count": 35,
     "metadata": {},
     "output_type": "execute_result"
    }
   ],
   "source": [
    "p₁₁ = wordhamliness(\"click\")"
   ]
  },
  {
   "cell_type": "markdown",
   "metadata": {},
   "source": [
    "### (b) Écrivez une fonction permettant de filter les courriels en fonction d'un mot\n",
    "\n",
    "Vous pouvez utilisez la transformation log pour stabiliser numériquement vos calculs"
   ]
  },
  {
   "cell_type": "code",
   "execution_count": 67,
   "metadata": {},
   "outputs": [
    {
     "data": {
      "text/plain": [
       "filteremail"
      ]
     },
     "execution_count": 67,
     "metadata": {},
     "output_type": "execute_result"
    }
   ],
   "source": [
    "\"\"\"\n",
    "    function filteremail(filename::AbstractString, word::AbstractString)\n",
    "\n",
    "Filtre le message contenu dans le fichier `filename` en fonction du mot `word`.\n",
    "\n",
    "### Détail\n",
    "La valeur 1 est renvoyée si la probabilité prédictive que ce soit un courriel est supérieur à .5. \n",
    "Sinon, la valeur 0 est renvoyée\n",
    "\"\"\"\n",
    "function filteremail(filename::AbstractString, word::AbstractString)\n",
    "    wordlist = wordlisting(filename)\n",
    "    \n",
    "    q₀ = log(p₀)\n",
    "    q₁ = log(p₁)\n",
    "    \n",
    "    if word in wordlist\n",
    "        q₀ += log(wordspamliness(word))\n",
    "        q₁ += log(wordhamliness(word))\n",
    "    else\n",
    "        q₀ += log(1 - wordspamliness(word))\n",
    "        q₁ += log(1 - wordhamliness(word))\n",
    "    end\n",
    "    \n",
    "    if q₁ > q₀\n",
    "        return 1\n",
    "    else\n",
    "        return 0\n",
    "    end\n",
    "end"
   ]
  },
  {
   "cell_type": "markdown",
   "metadata": {},
   "source": [
    "### (c) Filtrez les messages de l'ensemble de validation avec votre fonction en utilisant le mot *click*."
   ]
  },
  {
   "cell_type": "code",
   "execution_count": 68,
   "metadata": {},
   "outputs": [
    {
     "data": {
      "text/plain": [
       "ROCNums{Int64}\n",
       "  p = 1454\n",
       "  n = 499\n",
       "  tp = 1400\n",
       "  tn = 141\n",
       "  fp = 358\n",
       "  fn = 54\n"
      ]
     },
     "execution_count": 68,
     "metadata": {},
     "output_type": "execute_result"
    }
   ],
   "source": [
    "Z̃ = Int64[]\n",
    "\n",
    "for filename in vcat(ham_valid, spam_valid)\n",
    "    push!(Z̃, filteremail(filename, \"click\"))\n",
    "end\n",
    "    \n",
    "r = roc(Z, Ẑ)"
   ]
  },
  {
   "cell_type": "markdown",
   "metadata": {},
   "source": [
    "# Exercice 3 - Utilisation d'une liste de mots\n",
    "\n",
    "La cellule suivante permet de trouver les mots les plus discriminants pour classifier les messages entre pourriels et courriels. On utilise l'information mutuelle, concept que nous voyons au chapiter suivant en théorie de l'information.\n",
    "\n",
    "Le résultat de la prochaine cellule est une liste de mots classés selon leur pouvoir discriminant du plus grand au plus petit. Le premier mot est donc celui qui permet de mieux classer les courriels des pourriels."
   ]
  },
  {
   "cell_type": "code",
   "execution_count": 69,
   "metadata": {},
   "outputs": [
    {
     "data": {
      "text/plain": [
       "30530-element Vector{SubString{String}}:\n",
       " \"vince\"\n",
       " \"enron\"\n",
       " \"cc\"\n",
       " \"kaminski\"\n",
       " \"ect\"\n",
       " \"pm\"\n",
       " \"hou\"\n",
       " \"am\"\n",
       " \"re\"\n",
       " \"thanks\"\n",
       " \"subject\"\n",
       " \"me\"\n",
       " \"forwarded\"\n",
       " ⋮\n",
       " \"plus\"\n",
       " \"key\"\n",
       " \"former\"\n",
       " \"moment\"\n",
       " \"consumers\"\n",
       " \"jun\"\n",
       " \"base\"\n",
       " \"near\"\n",
       " \"then\"\n",
       " \"such\"\n",
       " \"interests\"\n",
       " \"lines\""
      ]
     },
     "execution_count": 69,
     "metadata": {},
     "output_type": "execute_result"
    }
   ],
   "source": [
    "function mutualInformation(word::AbstractString, n₀::Int, n₁::Int, ham_wordcounts::Dict{String,Int64}, spam_wordcounts::Dict{String,Int64})\n",
    "   \n",
    "    p₁ = n₁/(n₀ + n₁)\n",
    "    \n",
    "    \n",
    "    if haskey(ham_wordcounts, word)\n",
    "        n₀₁ = ham_wordcounts[word]\n",
    "    else\n",
    "        n₀₁ = 0\n",
    "    end\n",
    "    \n",
    "    if haskey(spam_wordcounts, word)\n",
    "        n₁₁ = spam_wordcounts[word]\n",
    "    else\n",
    "        n₁₁ = 0\n",
    "    end\n",
    "    \n",
    "    θ₀₁ = (1 + n₀₁) / (2 + n₀)\n",
    "    θ₁₁ = (1 + n₁₁) / (2 + n₁)\n",
    "    \n",
    "    θ₁ = (1-p₁)*θ₀₁ + p₁*θ₁₁ \n",
    "    \n",
    "    I_mat = [ (1-p₁)*(1-θ₀₁)*log( (1-θ₀₁)/(1-θ₁) ), (1-p₁)*θ₀₁*log( θ₀₁/θ₁ ),\n",
    "        p₁*(1-θ₁₁)*log( (1-θ₁₁)/(1-θ₁) ), p₁*θ₁₁*log( θ₁₁/θ₁ )  ]\n",
    "    \n",
    "    I = sum(I_mat)\n",
    "    \n",
    "    return I\n",
    "    \n",
    "end\n",
    "\n",
    "wordlist = unique(vcat(wordlisting.(vcat(ham_train, spam_train))...))\n",
    "I = Float64[]\n",
    "\n",
    "for word in wordlist\n",
    "   push!(I, mutualInformation(word, length(ham_train), length(spam_train), ham_wordcounts, spam_wordcounts)) \n",
    "end\n",
    "\n",
    "ind = sortperm(I, rev=true)\n",
    "\n",
    "discriminantwords = wordlist[ind]"
   ]
  },
  {
   "cell_type": "markdown",
   "metadata": {},
   "source": [
    "### (a) Écrivez une fonction généralisant votre fonction `filteremail()` pour une liste de mots"
   ]
  },
  {
   "cell_type": "code",
   "execution_count": 70,
   "metadata": {},
   "outputs": [
    {
     "data": {
      "text/plain": [
       "filteremail"
      ]
     },
     "execution_count": 70,
     "metadata": {},
     "output_type": "execute_result"
    }
   ],
   "source": [
    "\"\"\"\n",
    "    function filteremail(filename::AbstractString, words::Vector{<:AbstractString})\n",
    "\n",
    "Filtre le message contenu dans le fichier `filename` en fonction de la liste de mots `words`.\n",
    "\n",
    "### Détail\n",
    "La valeur 1 est renvoyée si la probabilité prédictive que ce soit un courriel est supérieur à .5. \n",
    "Sinon, la valeur 0 est renvoyée\n",
    "\"\"\"\n",
    "function filteremail(filename::AbstractString, words::Vector{<:AbstractString})\n",
    "    wordlist = wordlisting(filename)\n",
    "    \n",
    "    q₀ = log(p₀)\n",
    "    q₁ = log(p₁)\n",
    "    \n",
    "    for word in words\n",
    "        \n",
    "        if word in wordlist\n",
    "            q₀ += log(wordspamliness(word))\n",
    "            q₁ += log(wordhamliness(word))\n",
    "        else\n",
    "            q₀ += log(1 - wordspamliness(word))\n",
    "            q₁ += log(1 - wordhamliness(word))\n",
    "        end\n",
    "    end\n",
    "\n",
    "    if q₁ > q₀\n",
    "        return 1\n",
    "    else\n",
    "        return 0\n",
    "    end\n",
    "end"
   ]
  },
  {
   "cell_type": "markdown",
   "metadata": {},
   "source": [
    "### (c) Filtrez les messages de l'ensemble de validation avec votre fonction.\n",
    "\n",
    "Utilisez les 10 mots les plus discriminants, ensuite les 100, les 1000, etc."
   ]
  },
  {
   "cell_type": "code",
   "execution_count": 78,
   "metadata": {},
   "outputs": [
    {
     "data": {
      "text/plain": [
       "ROCNums{Int64}\n",
       "  p = 1454\n",
       "  n = 499\n",
       "  tp = 1231\n",
       "  tn = 491\n",
       "  fp = 8\n",
       "  fn = 223\n"
      ]
     },
     "execution_count": 78,
     "metadata": {},
     "output_type": "execute_result"
    }
   ],
   "source": [
    "discriminant_words_10 = discriminantwords[1:10]\n",
    "\n",
    "Z̃ = Int64[]\n",
    "\n",
    "for filename in vcat(ham_valid, spam_valid)\n",
    "    push!(Z̃, filteremail(filename, discriminant_words_10))\n",
    "end\n",
    "    \n",
    "r = roc(Z, Z̃)"
   ]
  },
  {
   "cell_type": "code",
   "execution_count": 80,
   "metadata": {},
   "outputs": [
    {
     "data": {
      "text/plain": [
       "ROCNums{Int64}\n",
       "  p = 1454\n",
       "  n = 499\n",
       "  tp = 1294\n",
       "  tn = 489\n",
       "  fp = 10\n",
       "  fn = 160\n"
      ]
     },
     "execution_count": 80,
     "metadata": {},
     "output_type": "execute_result"
    }
   ],
   "source": [
    "discriminant_words_100 = discriminantwords[1:100]\n",
    "\n",
    "Z̃ = Int64[]\n",
    "\n",
    "for filename in vcat(ham_valid, spam_valid)\n",
    "    push!(Z̃, filteremail(filename, discriminant_words_100))\n",
    "end\n",
    "    \n",
    "r = roc(Z, Z̃)"
   ]
  },
  {
   "cell_type": "code",
   "execution_count": 81,
   "metadata": {},
   "outputs": [
    {
     "data": {
      "text/plain": [
       "ROCNums{Int64}\n",
       "  p = 1454\n",
       "  n = 499\n",
       "  tp = 1378\n",
       "  tn = 493\n",
       "  fp = 6\n",
       "  fn = 76\n"
      ]
     },
     "execution_count": 81,
     "metadata": {},
     "output_type": "execute_result"
    }
   ],
   "source": [
    "discriminant_words_1000 = discriminantwords[1:1000]\n",
    "\n",
    "Z̃ = Int64[]\n",
    "\n",
    "for filename in vcat(ham_valid, spam_valid)\n",
    "    push!(Z̃, filteremail(filename, discriminant_words_1000))\n",
    "end\n",
    "    \n",
    "r = roc(Z, Z̃)"
   ]
  },
  {
   "cell_type": "code",
   "execution_count": null,
   "metadata": {},
   "outputs": [],
   "source": []
  },
  {
   "cell_type": "code",
   "execution_count": null,
   "metadata": {},
   "outputs": [],
   "source": []
  }
 ],
 "metadata": {
  "@webio": {
   "lastCommId": null,
   "lastKernelId": null
  },
  "hide_input": false,
  "kernelspec": {
   "display_name": "Julia 1.8.0",
   "language": "julia",
   "name": "julia-1.8"
  },
  "language_info": {
   "file_extension": ".jl",
   "mimetype": "application/julia",
   "name": "julia",
   "version": "1.8.0"
  }
 },
 "nbformat": 4,
 "nbformat_minor": 2
}
